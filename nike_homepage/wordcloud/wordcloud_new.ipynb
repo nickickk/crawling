{
 "cells": [
  {
   "cell_type": "code",
   "execution_count": 17,
   "metadata": {},
   "outputs": [],
   "source": [
    "from wordcloud import WordCloud, STOPWORDS # 워드클라우드 제작 라이브러리\n",
    "import pandas as pd # 데이터 프레임 라이브러리\n",
    "import numpy as np # 행렬 라이브러리\n",
    "import matplotlib.pyplot as plt # 워드클라우드 시각화 라이브러리\n",
    "from konlpy.tag import Kkma"
   ]
  },
  {
   "cell_type": "code",
   "execution_count": 2,
   "metadata": {},
   "outputs": [],
   "source": [
    "df_basketball=pd.read_csv(\"../sentiment_analysis/basketball_filtered_reviews.csv\",encoding='utf-8-sig')\n",
    "df_gym=pd.read_csv(\"../sentiment_analysis/gym_filtered_reviews.csv\",encoding='utf-8-sig')\n",
    "df_jordan=pd.read_csv(\"../sentiment_analysis/jordan_filtered_reviews.csv\",encoding='utf-8-sig')\n",
    "df_running=pd.read_csv(\"../sentiment_analysis/running_filtered_reviews.csv\",encoding='utf-8-sig')\n",
    "df_soccer=pd.read_csv(\"../sentiment_analysis/soccer_filtered_reviews.csv\",encoding='utf-8-sig')\n",
    "df_lifestyle=pd.read_csv(\"../sentiment_analysis/lifestyle_filtered_reviews.csv\",encoding='utf-8-sig')"
   ]
  },
  {
   "cell_type": "code",
   "execution_count": 22,
   "metadata": {},
   "outputs": [],
   "source": [
    "stopwords = set(['신발', '사이즈', '정사이즈', '신발은', '신발들','주문','구매','느낌','생각','나이키','평소','제품','265','정도',\n",
    "                 '쿠션','16','10','20','러닝','처음','벗가','싲러닝','리뷰','260','역도','부분','추천','에어','디자인','신고','100',\n",
    "                 '최소','메트','280','285','270','음품질','음길이','신어','보고','스쿼트','290','11','때문','이즈','나이','맥스',\n",
    "                 '앞코','구입','포스','이상','착용','9.5','13','당첨','마음','편안','하나','힐컵','키로','감이','양말','힙슬립',\n",
    "                 '펀치','메트콘','교환원','공홈','치수','14','힐슬립','250','265','275','사진','사람','이번','여름','가격','데드',\n",
    "                 '말레오','슬립','업해','신발끈','추천요','조금','전체적','이것','쿠션감','보통','운동화','길이','슬리퍼','240',\n",
    "                 '분중','사서','255','배송','복숭아','사악','사세','펌프퓨리','사말','반스','런닝','플라이','약간','신기'])  # 제외 단어 확장"
   ]
  },
  {
   "cell_type": "code",
   "execution_count": 18,
   "metadata": {},
   "outputs": [],
   "source": [
    "# Kkma 사용\n",
    "import konlpy\n",
    "kkma = konlpy.tag.Kkma()"
   ]
  },
  {
   "cell_type": "code",
   "execution_count": 24,
   "metadata": {},
   "outputs": [],
   "source": [
    "def word2(name, df):\n",
    "    kkma = Kkma()\n",
    "\n",
    "    # 명사 추출\n",
    "    df = df.copy()  # 복사본 생성\n",
    "    df['nouns'] = df['Reviews'].apply(lambda x: kkma.nouns(str(x))) \n",
    "    nouns = df['nouns'].explode()  # 명사 리스트를 개별 단어로 분리\n",
    "\n",
    "    # 단어 데이터프레임 생성\n",
    "    df_word = pd.DataFrame({'word': nouns})\n",
    "    df_word['count'] = df_word['word'].str.len()\n",
    "    df_word = df_word.query('count >= 2')  # 글자수 2개 이상 필터링\n",
    "\n",
    "    # 단어 빈도 계산\n",
    "    df_word = df_word.groupby('word', as_index=False).size().rename(columns={'size': 'count'})\n",
    "    df_word = df_word.sort_values('count', ascending=False)\n",
    "\n",
    "    # stopwords와 비교해 단어 제거\n",
    "    df_word = df_word[~df_word['word'].isin(stopwords)]  # 제외 단어 필터링\n",
    "\n",
    "    # 단어 빈도 딕셔너리 생성\n",
    "    dic_word = df_word.set_index('word')['count'].to_dict()\n",
    "\n",
    "    # 워드클라우드 생성\n",
    "    wc = WordCloud(\n",
    "        random_state=123, \n",
    "        font_path='AppleGothic', \n",
    "        width=400, \n",
    "        height=400, \n",
    "        background_color='white',\n",
    "        stopwords=stopwords  # 워드클라우드용 stopwords 전달\n",
    "    )\n",
    "    img_wordcloud = wc.generate_from_frequencies(dic_word)\n",
    "\n",
    "    # 워드클라우드 출력 및 저장\n",
    "    plt.figure(figsize=(7, 7))\n",
    "    plt.axis('off')\n",
    "    plt.imshow(img_wordcloud)\n",
    "    plt.savefig(f'{name}_wordcloud.png')\n",
    "    plt.close()"
   ]
  },
  {
   "cell_type": "code",
   "execution_count": 25,
   "metadata": {},
   "outputs": [],
   "source": [
    "word2(\"running\",df_running[df_running['result']==0])\n",
    "word2(\"jordan\",df_jordan[df_jordan['result']==0])\n",
    "word2(\"soccer\",df_soccer[df_soccer['result']==0])\n",
    "word2(\"gym\",df_gym[df_gym['result']==0])\n",
    "word2(\"lifestyle\",df_lifestyle[df_lifestyle['result']==0])\n",
    "word2(\"jordan\",df_jordan[df_jordan['result']==0])"
   ]
  }
 ],
 "metadata": {
  "kernelspec": {
   "display_name": "conda",
   "language": "python",
   "name": "conda"
  },
  "language_info": {
   "codemirror_mode": {
    "name": "ipython",
    "version": 3
   },
   "file_extension": ".py",
   "mimetype": "text/x-python",
   "name": "python",
   "nbconvert_exporter": "python",
   "pygments_lexer": "ipython3",
   "version": "3.9.12"
  }
 },
 "nbformat": 4,
 "nbformat_minor": 2
}
