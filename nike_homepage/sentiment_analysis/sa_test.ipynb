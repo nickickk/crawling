{
 "cells": [
  {
   "cell_type": "code",
   "execution_count": 1,
   "metadata": {},
   "outputs": [],
   "source": [
    "# import library\n",
    "import torch\n",
    "from transformers import AutoTokenizer, AutoModelForSequenceClassification, TextClassificationPipeline"
   ]
  },
  {
   "cell_type": "code",
   "execution_count": 8,
   "metadata": {},
   "outputs": [
    {
     "name": "stderr",
     "output_type": "stream",
     "text": [
      "Hardware accelerator e.g. GPU is available in the environment, but no `device` argument is passed to the `Pipeline` object. Model will be on CPU.\n"
     ]
    }
   ],
   "source": [
    "# load model\n",
    "tokenizer = AutoTokenizer.from_pretrained(\"Copycats/koelectra-base-v3-generalized-sentiment-analysis\")\n",
    "model = AutoModelForSequenceClassification.from_pretrained(\"yenqkr/sentiment-analysis-re\")\n",
    "sentiment_classifier = TextClassificationPipeline(tokenizer=tokenizer, model=model)"
   ]
  },
  {
   "cell_type": "code",
   "execution_count": 74,
   "metadata": {},
   "outputs": [],
   "source": [
    "# 예시\n",
    "# target reviews\n",
    "review_list = [\n",
    "    '이쁘고 좋아요~~~씻기도 편하고 아이고 이쁘다고 자기방에 갖다놓고 잘써요~^^',\n",
    "    '아직 입어보진 않았지만 굉장히 가벼워요~~ 다른 리뷰처럼 어깡이 좀 되네요ㅋ 만족합니다. 엄청 빠른발송 감사드려요 :)',\n",
    "    '재구매 한건데 너무너무 가성비인거 같아요!! 다음에 또 생각나면 3개째 또 살듯..ㅎㅎ',\n",
    "    '가습량이 너무 적어요. 방이 작지 않다면 무조건 큰걸로구매하세요. 물량도 조금밖에 안들어가서 쓰기도 불편함',\n",
    "    '한번입었는데 옆에 봉제선 다 풀리고 실밥도 계속 나옵니다. 마감 처리 너무 엉망 아닌가요?',\n",
    "    '따뜻하고 좋긴한데 배송이 느려요',\n",
    "    'Trainers look ok but the 10 is more a 9.5 so have ordered a 10.5 and wait to see',\n",
    "    'disgusting!!!!!!!',\n",
    "    'Comfortable im enjoying them very much',\n",
    "    'Good fit was the same fit as the metcon 7, just pay attention to the Women or Men size when u buy them.',\n",
    "     'Nice tennis shoes and great price',\n",
    " 'Old school  love them . You would have to understand these are apart of my child hood ....',\n",
    " \"Great update of the ones from the 80's, feels a little bit snugger than the old ones.\",\n",
    " \"Great classic from Nike. It's a childhood grail.\",\n",
    " \"Love them, I wore these as a teenager and well into my 30's, was so happy to be able to get them again, they go with anything and a re so comfortable. Thank You Nike\",\n",
    " 'Had my first pair of Cortez shoes in 2010, loved them, bought a few more pairs until maybe 2015, and then couldn’t find them anymore. A friend told me they were back, so I ordered 2 more paid to wear and I was super excited, I still love them, they are my favorite shoes to the day, just disappointed that the chrome “ ‘72 Cortez” lace tag isn’t part of the deal.. I’ll have to search for them online now',\n",
    " 'I love it , very comfortable  fit',\n",
    " 'wrong size description 9uk = 44 eu description says 9=42.5 !!!',\n",
    " \"They are not the same shoe, missing the cortez '72 metal tag at top of laces unfortunately. Will have to transfer those over...They look the same minus that one detail, perhaps run smaller than the last release. I had size 10 (bought a 10.5), but they are broken in loose after almost 7 years of use.\",\n",
    " 'Don’t sleep on these shoes. Classic style that goes with anything but I picked the blue for the wow.Cortez is a killer',\n",
    " 'Thought this style was an all leather shoe, but I was wrong',\n",
    " 'Great for your cutting grass on your riding lawn mower, sitting at the bus stop or running across the country. They make you feel like a gazillionaire.',\n",
    " 'These Shoes are like I have worn them ever since I got my first pair they are starting to get harder and harder to find out and the prices have skyrocketed, but it’s OK I will buy them',\n",
    " 'Perfect … just what I was expecting….. 👍👍👍',\n",
    " 'Perfect stylish classic nike sneakers',\n",
    " 'There is a problem with the size, all Nike sneakers I wear is 10,5 but on this one I bought 11 but is still small 🥴',\n",
    " 'LOVE THE SHOES THEY ARE JUST AS ADVERTISED 10/10',\n",
    " 'Awesome that these iconics are back in navy. Note, you may need to go half size up.',\n",
    " 'Shoes fit great and are comfortable from day one with no breaking in needed. Hope to wear them for pickleball!',\n",
    " 'Cute but runs small- need 1/2 size up',\n",
    " 'My husband loves the Cortez shoes! Very comfortable and has them in every color!',\n",
    " 'The Cortez is an iconic shoe and still one of my favourites. The speed of delivery is always impressive by Nike .',\n",
    " 'Best OG shoes around, need to bring them all back..',\n",
    " 'Comfort, fit, style, appearance.',\n",
    " 'Best pair of nike’s ever!!! Period!!! I’ve been rockin these shoes since the 80’s!!!',\n",
    " 'Excellent quality, quick shipping, hassle free would come back to order more',\n",
    " 'so comfortable and perfect for summer',\n",
    " 'Sleek old school look and feel take me back to my first pair in 95 always a classic',\n",
    " 'Love them. Cortez are the best',\n",
    " 'You made a father very happy thank you',\n",
    " 'Product was as described and delivery was fast and package was very neat and secure.will order from seller again and recommend to other customers as well',\n",
    " 'My first pair of Cortez. I recommend a half size up, and they are surprisingly comfortable. You can really feel the give in the foam underfoot. An easy sneaker to wear all day, and black/white goes with everything. Lightweight, breathable, perfect for an upcoming trip I’m taking, and I love the addition of the dubrae!',\n",
    " 'These shiny white shoes brought my confidence back.',\n",
    " 'Great Quality, Comfort and Style! Just buy them! You wont be disappointed!',\n",
    " 'Take me back when time was so cool to be outside with your friends with the OG Cortez..',\n",
    " 'Great shoe but runs 1/2 “ smaller than other Nike shoes.I wear Nike max 11.5 perfect and ordered same size in these 11.5 , I should have ordered the 12.',\n",
    " 'Finally the shoe I grew up with. I now got new ones instead of wearing my 15 plus year old ones on the daily lol.',\n",
    " 'Great looking shoe with jeans but most importantly, it’s a comfortable shoe! Would highly recommend this shoe.',\n",
    " \"[This review was collected as part of a promotion.] They are still the greatest shoe like they was back when they first came out in the 90's\",\n",
    " 'I absolutely love purple color of Nike Cortez bought it really makes 👀s popping around statement plus there super comfortable',\n",
    " 'I love the suede on these Cortez’s is the whole shoe. No creases is a plus. My only minor complaint is that the foam on the bottom turned slightly yellowish after a month wearing these. Don’t know if they are meant to turn that way to give it a more vintage look, but I remember rocking Cortez’s in high school and the foam used to remain white for a long time. Don’t know if It’s a quality issue. I love them though,',\n",
    " 'I\\'m a woman with giant feet, so I love when I see mens shoes in \"girly\" colors. Great purple color and so comfortable! I ordered my regular size, but they ended up being a bit too small. Nike made it so easy to exchange for a half size bigger. I\\'d recommend sizing up.',\n",
    " 'I have been trying to find these sneakers at a decent price and here is where they were.',\n",
    " 'Quick shipping, great item. Will buy from again. Affordable prices.',\n",
    " 'Affordable price and great quality. Very fast shipping.',\n",
    " 'Had a pair of nylon CORTEZ like 20 years ago. I had to get me this one when I seen it was available in my size again. More comfortable then I remember. My favorite pair of nikes.',\n",
    " 'Dope shoes. Comfy fit. Quick shipping. Good communication. A+ experience.',\n",
    " 'I like the comfortbility of the shoe & also the color.',\n",
    " 'Born too late to ever get the originals back in the day and have always wanted a pair so this is great',\n",
    " 'I just got my Nike Cortez in white and cosmic green.  WOW…so excited because the last time I wore these retry shoes was in college.  Just love them!!  But I would recommend ordering them in a size up if you wear them with socks, otherwise order your regular size.  Thanks Nike for bringing the retro shoes back!',\n",
    " 'Nike did a good job on the Cortez this time. Much more space in the toe box. Fit and look great!',\n",
    " 'I like my old/new school Cortez shoes.Want them without the blue in my size.I’m a 60 year old that still loves me some Cortez shoes…',\n",
    " 'Love this shoe since I was 13 years old now I have a pair the best',\n",
    " \"Colors are gorgeous!  Exactly something I'd pair with a summer outfit.  The leather on one of the shoes was slightly marbled for some reason but I had to exchange them anyway because the shape of these shoes made me need a 1/2 size larger.  I wear a 7 in most Nike Men's shoes (8.5 in women's), if not a 6.5 (AF1) and this is the first pair that I'm going to have to size up to a 7.5 in.\",\n",
    " 'Great nostalgic shoes , I have been wanting a pair for a while.',\n",
    " 'Class show. A real trip down memory lane as I had these in my teens.',\n",
    " 'Comfortable classic shoe had to add to my collection.',\n",
    " \"I love this style shoe. I have been wearing Cortez since the early 90's\",\n",
    " 'Love the shoes hate that they removed da Cortez 72” charm',\n",
    " 'Very Comfortable Shoes and it suits different themes. Very happy with the shoes',\n",
    " 'classic nike cortez best shoes for the $ Good deal',\n",
    " 'My boyfriend has been wanting these shoes as a hes had them many years ago n the past. I bought them as a gift and he loves them as much as he did years ago.',\n",
    " 'Nice on the photo but even cleaner in person/on foot. If you dig cortez, this is one you need to have. Materials don’t crease easy either!',\n",
    " 'Love all the styles. Updates on incoming products is really good. Help with the experts is excellent, they have done a great job helping with my questions.',\n",
    " 'Love the improved design of the Cortez. The little bit wider toe is more comfortable. I do wish that the old classic color would be kept in stock.',\n",
    " 'Cortez Cortez say no mo only way to roll better than ever so happy to see them back'\n",
    "    ]"
   ]
  },
  {
   "cell_type": "code",
   "execution_count": 75,
   "metadata": {},
   "outputs": [
    {
     "name": "stdout",
     "output_type": "stream",
     "text": [
      "가습량이 너무 적어요. 방이 작지 않다면 무조건 큰걸로구매하세요. 물량도 조금밖에 안들어가서 쓰기도 불편함\n",
      ">> {'label': '0', 'score': 0.9960663914680481}\n",
      "한번입었는데 옆에 봉제선 다 풀리고 실밥도 계속 나옵니다. 마감 처리 너무 엉망 아닌가요?\n",
      ">> {'label': '0', 'score': 0.9978985786437988}\n",
      "따뜻하고 좋긴한데 배송이 느려요\n",
      ">> {'label': '0', 'score': 0.5185186862945557}\n",
      "disgusting!!!!!!!\n",
      ">> {'label': '0', 'score': 0.9873364567756653}\n",
      "Good fit was the same fit as the metcon 7, just pay attention to the Women or Men size when u buy them.\n",
      ">> {'label': '0', 'score': 0.9259200692176819}\n",
      "Had my first pair of Cortez shoes in 2010, loved them, bought a few more pairs until maybe 2015, and then couldn’t find them anymore. A friend told me they were back, so I ordered 2 more paid to wear and I was super excited, I still love them, they are my favorite shoes to the day, just disappointed that the chrome “ ‘72 Cortez” lace tag isn’t part of the deal.. I’ll have to search for them online now\n",
      ">> {'label': '0', 'score': 0.5381259918212891}\n",
      "wrong size description 9uk = 44 eu description says 9=42.5 !!!\n",
      ">> {'label': '0', 'score': 0.9512616991996765}\n",
      "They are not the same shoe, missing the cortez '72 metal tag at top of laces unfortunately. Will have to transfer those over...They look the same minus that one detail, perhaps run smaller than the last release. I had size 10 (bought a 10.5), but they are broken in loose after almost 7 years of use.\n",
      ">> {'label': '0', 'score': 0.8713984489440918}\n",
      "Thought this style was an all leather shoe, but I was wrong\n",
      ">> {'label': '0', 'score': 0.8771907091140747}\n",
      "There is a problem with the size, all Nike sneakers I wear is 10,5 but on this one I bought 11 but is still small 🥴\n",
      ">> {'label': '0', 'score': 0.9249032735824585}\n",
      "Awesome that these iconics are back in navy. Note, you may need to go half size up.\n",
      ">> {'label': '0', 'score': 0.7667582035064697}\n",
      "Cute but runs small- need 1/2 size up\n",
      ">> {'label': '0', 'score': 0.6352485418319702}\n",
      "Colors are gorgeous!  Exactly something I'd pair with a summer outfit.  The leather on one of the shoes was slightly marbled for some reason but I had to exchange them anyway because the shape of these shoes made me need a 1/2 size larger.  I wear a 7 in most Nike Men's shoes (8.5 in women's), if not a 6.5 (AF1) and this is the first pair that I'm going to have to size up to a 7.5 in.\n",
      ">> {'label': '0', 'score': 0.696815013885498}\n",
      "Cortez Cortez say no mo only way to roll better than ever so happy to see them back\n",
      ">> {'label': '0', 'score': 0.8742706179618835}\n"
     ]
    }
   ],
   "source": [
    "# predict\n",
    "for idx, review in enumerate(review_list):\n",
    "  pred = sentiment_classifier(review)\n",
    "  if pred[0]['label'] == '0':  \n",
    "    print(f'{review}\\n>> {pred[0]}')\n",
    "  # print(f'{review}\\n>> {pred[0]}')"
   ]
  }
 ],
 "metadata": {
  "kernelspec": {
   "display_name": "conda",
   "language": "python",
   "name": "conda"
  },
  "language_info": {
   "codemirror_mode": {
    "name": "ipython",
    "version": 3
   },
   "file_extension": ".py",
   "mimetype": "text/x-python",
   "name": "python",
   "nbconvert_exporter": "python",
   "pygments_lexer": "ipython3",
   "version": "3.9.12"
  }
 },
 "nbformat": 4,
 "nbformat_minor": 2
}
